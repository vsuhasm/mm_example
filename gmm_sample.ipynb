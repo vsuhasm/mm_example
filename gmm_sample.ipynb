{
 "cells": [
  {
   "cell_type": "code",
   "execution_count": 13,
   "metadata": {},
   "outputs": [],
   "source": [
    "import numpy as np\n",
    "import matplotlib.pyplot as plt\n",
    "\n",
    "import torch\n",
    "\n",
    "%matplotlib inline\n",
    "torch.manual_seed(42)\n",
    "np.random.seed(42)\n",
    "torch.backends.cudnn.deterministic = True\n",
    "torch.backends.cudnn.benchmark = False"
   ]
  },
  {
   "cell_type": "code",
   "execution_count": 69,
   "metadata": {},
   "outputs": [
    {
     "name": "stdout",
     "output_type": "stream",
     "text": [
      "Cluster 1 size: 450\n",
      "Cluster 2 size: 450\n",
      "Anomaly size: 100\n"
     ]
    }
   ],
   "source": [
    "num_samples = 1000\n",
    "anom_prop = 0.1\n",
    "num_anom = int(anom_prop * num_samples)\n",
    "num_norm_1 = int((num_samples - num_anom)/2.0)\n",
    "num_norm_2 = num_samples - (num_anom + num_norm_1)\n",
    "print('Cluster 1 size: {}'.format(num_norm_1))\n",
    "print('Cluster 2 size: {}'.format(num_norm_2))\n",
    "print('Anomaly size: {}'.format(num_anom))"
   ]
  },
  {
   "cell_type": "code",
   "execution_count": 70,
   "metadata": {},
   "outputs": [],
   "source": [
    "mu_1 = torch.tensor([2.1, 2.4])\n",
    "mu_2 = torch.tensor([5.4, 2.2])\n",
    "mu_3 = torch.tensor([5.7, 8.9])\n",
    "var_1 = torch.tensor([0.2, 0.8])\n",
    "var_2 = torch.tensor([0.75, 0.5])\n",
    "var_3 = torch.tensor([0.6, 0.8])"
   ]
  },
  {
   "cell_type": "code",
   "execution_count": 71,
   "metadata": {},
   "outputs": [],
   "source": [
    "def sample(mu, var, nb_samples=500):\n",
    "    \"\"\"\n",
    "    Return a tensor of (nb_samples, features), sampled\n",
    "    from the parameterized gaussian.\n",
    "    :param mu: torch.Tensor of the means\n",
    "    :param var: torch.Tensor of variances (NOTE: zero covars.)\n",
    "    \"\"\"\n",
    "    out = []\n",
    "    for i in range(nb_samples):\n",
    "        out += [\n",
    "            torch.normal(mu, var.sqrt())\n",
    "        ]\n",
    "    return torch.stack(out, dim=0)"
   ]
  },
  {
   "cell_type": "code",
   "execution_count": 72,
   "metadata": {},
   "outputs": [],
   "source": [
    "c_1 = sample(mu_1, var_1, num_norm_1)\n",
    "c_2 = sample(mu_2, var_2, num_norm_2)\n",
    "c_3 = sample(mu_3, var_3, num_anom)"
   ]
  },
  {
   "cell_type": "code",
   "execution_count": 73,
   "metadata": {},
   "outputs": [],
   "source": [
    "def plot_2d_sample(sample):\n",
    "    sample_np = sample.numpy()\n",
    "    x = sample_np[:, 0]\n",
    "    y = sample_np[:, 1]\n",
    "    plt.scatter(x, y)"
   ]
  },
  {
   "cell_type": "code",
   "execution_count": 74,
   "metadata": {},
   "outputs": [
    {
     "data": {
      "image/png": "[encoded data removed]",
      "text/plain": [
       "<Figure size 432x288 with 1 Axes>"
      ]
     },
     "metadata": {
      "needs_background": "light"
     },
     "output_type": "display_data"
    }
   ],
   "source": [
    "# create the dummy dataset, by combining the clusters.\n",
    "X = torch.cat([c_1, c_2, c_3])\n",
    "plot_2d_sample(X)"
   ]
  },
  {
   "cell_type": "code",
   "execution_count": null,
   "metadata": {},
   "outputs": [],
   "source": []
  }
 ],
 "metadata": {
  "kernelspec": {
   "display_name": "Python 3",
   "language": "python",
   "name": "python3"
  },
  "language_info": {
   "codemirror_mode": {
    "name": "ipython",
    "version": 3
   },
   "file_extension": ".py",
   "mimetype": "text/x-python",
   "name": "python",
   "nbconvert_exporter": "python",
   "pygments_lexer": "ipython3",
   "version": "3.6.8"
  }
 },
 "nbformat": 4,
 "nbformat_minor": 2
}
